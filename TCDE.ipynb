{
  "cells": [
    {
      "cell_type": "markdown",
      "metadata": {
        "id": "scVZcWig7hlh"
      },
      "source": [
        "# **TCDE**\n",
        "**Mohammad Sarhangzadeh**<br>\n",
        "*m.sarhangnote@gmail.com*"
      ]
    },
    {
      "cell_type": "code",
      "source": [
        "def sphere_function(x):\n",
        "    return np.sum(x**2)\n",
        "\n",
        "def rastrigin_function(x):\n",
        "    return 10 * len(x) + np.sum(x**2 - 10 * np.cos(2 * np.pi * x))\n",
        "\n",
        "def ackley_function(x):\n",
        "    n = len(x)\n",
        "    sum_sq = np.sum(x**2)\n",
        "    sum_cos = np.sum(np.cos(2 * np.pi * x))\n",
        "    return -20 * np.exp(-0.2 * np.sqrt(sum_sq / n)) - np.exp(sum_cos / n) + 20 + np.e\n",
        "\n",
        "def rosenbrock_function(x):\n",
        "    return np.sum(100 * (x[1:] - x[:-1]**2)**2 + (x[:-1] - 1)**2)\n",
        "\n",
        "def griewank_function(x):\n",
        "    sum_sq = np.sum(x**2) / 4000\n",
        "    prod_cos = np.prod(np.cos(x / np.sqrt(np.arange(1, len(x) + 1))))\n",
        "    return sum_sq - prod_cos + 1\n",
        "\n",
        "def schwefel_function(x):\n",
        "    return 418.9829 * len(x) - np.sum(x * np.sin(np.sqrt(np.abs(x))))\n",
        "\n",
        "def levy_function(x):\n",
        "    w = 1 + (x - 1) / 4\n",
        "    term1 = np.sin(np.pi * w[0])**2\n",
        "    term2 = np.sum((w[:-1] - 1)**2 * (1 + 10 * np.sin(np.pi * w[:-1] + 1)**2))\n",
        "    term3 = (w[-1] - 1)**2 * (1 + np.sin(2 * np.pi * w[-1])**2)\n",
        "    return term1 + term2 + term3\n",
        "\n",
        "def michalewicz_function(x, m=10):\n",
        "    i = np.arange(1, len(x) + 1)\n",
        "    return -np.sum(np.sin(x) * (np.sin(i * x**2 / np.pi))**(2 * m))\n"
      ],
      "metadata": {
        "id": "SCD3HkTO1CZf"
      },
      "execution_count": null,
      "outputs": []
    },
    {
      "cell_type": "code",
      "execution_count": null,
      "metadata": {
        "id": "pnwMndGpUKOV"
      },
      "outputs": [],
      "source": [
        "import numpy as np\n",
        "\n",
        "\n",
        "def weighted_lehmer_mean(values, weights):\n",
        "    num = np.sum(weights * np.square(values))\n",
        "    denom = np.sum(weights * values)\n",
        "    return num / denom if denom != 0 else 0\n",
        "\n",
        "\n",
        "def weight_calculation(fitness_improvements):\n",
        "    fitness_improvements = np.abs(fitness_improvements)\n",
        "    weights = fitness_improvements / np.sum(fitness_improvements)\n",
        "    return weights\n",
        "\n",
        "def calculate_selection_probabilities(SR):\n",
        "    probabilities = np.zeros_like(SR)\n",
        "    total_SR = np.sum(SR)\n",
        "    if total_SR > 0:\n",
        "        probabilities = SR / total_SR\n",
        "    return probabilities\n",
        "\n",
        "\n",
        "def sample_from_archive_with_index(archive, probabilities):\n",
        "    index = np.random.choice(len(archive), p=probabilities)\n",
        "    value = archive[index]\n",
        "    return value, index\n"
      ]
    },
    {
      "cell_type": "code",
      "execution_count": null,
      "metadata": {
        "id": "4JHdxUU_m3wr"
      },
      "outputs": [],
      "source": [
        "def differential_evolution(fitness_func, dim_num, lw_bound, up_bound, pop_size, min_pop_size, fes_max, archive_size):\n",
        "\n",
        "  #initlize population\n",
        "  population = np.random.rand(pop_size, dim_num)\n",
        "  population = [lw_bound + (x * (up_bound-lw_bound)) for x in population]\n",
        "  fes = 0\n",
        "  MCR = np.random.rand(archive_size)\n",
        "  MF = np.random.rand(archive_size)\n",
        "  SR = np.ones(archive_size)\n",
        "  best = np.zeros(dim_num)\n",
        "  best_fitness = np.inf\n",
        "  #evaluate\n",
        "  fitness_scores = [np.sum(fitness_func(x)) for x in population]\n",
        "\n",
        "  while fes_max >= fes :\n",
        "\n",
        "    #create triplets\n",
        "    idx = np.arange(len(population))\n",
        "    np.random.shuffle(idx)\n",
        "\n",
        "    if len(population) % 3 != 0:\n",
        "        extra = len(population) % 3\n",
        "        idx = idx[:-extra]\n",
        "\n",
        "    triples = [idx[i:i + 3] for i in range(0, len(idx), 3)]\n",
        "\n",
        "    SF = []\n",
        "    SCR = []\n",
        "    f_improv = []\n",
        "\n",
        "    for triple in triples:\n",
        "\n",
        "      prob_MCR = calculate_selection_probabilities(SR)\n",
        "      prob_MF = calculate_selection_probabilities(SR)\n",
        "\n",
        "      triple_population = [population[idx] for idx in triple]\n",
        "      triple_fitness = [fitness_scores[idx] for idx in triple]\n",
        "\n",
        "      sorted_idx = np.argsort(triple_fitness)\n",
        "      T_best, T_medium, T_worst = [triple_population[idx] for idx in sorted_idx]\n",
        "      T_best_idx, T_medium_idx, T_worst_idx = [triple[i] for i in sorted_idx]\n",
        "\n",
        "      CR_indices = []\n",
        "      F_indices = []\n",
        "      CR = []\n",
        "      F = []\n",
        "\n",
        "      for _ in range(3):\n",
        "          cr_val, cr_idx = sample_from_archive_with_index(MCR, prob_MCR)\n",
        "          f_val, f_idx = sample_from_archive_with_index(MF, prob_MF)\n",
        "          CR.append(np.random.normal(cr_val, 0.1))\n",
        "          F.append(np.random.normal(f_val, 0.1))\n",
        "          CR_indices.append(cr_idx)\n",
        "          F_indices.append(f_idx)\n",
        "\n",
        "      sorted_F_indices = np.argsort(F)[::-1]\n",
        "      sorted_CR_indices = np.argsort(CR)[::-1]\n",
        "\n",
        "      sorted_F = [F[i] for i in sorted_F_indices]\n",
        "      sorted_F_indices = [F_indices[i] for i in sorted_F_indices]\n",
        "\n",
        "      sorted_CR = [CR[i] for i in sorted_CR_indices]\n",
        "      sorted_CR_indices = [CR_indices[i] for i in sorted_CR_indices]\n",
        "\n",
        "      CR_worst, CR_medium, CR_best = sorted_CR\n",
        "      F_worst, F_medium, F_best = sorted_F\n",
        "\n",
        "\n",
        "      #mutation\n",
        "      worst_vector = T_worst + F_worst * (T_best - T_worst) + F_worst * (T_medium - T_worst)\n",
        "      worst_vector = np.clip(worst_vector, lw_bound, up_bound)\n",
        "\n",
        "      idx1, idx2 = np.random.choice([i for i in range(len(population)) if i != triple[1]], 2, replace=False)\n",
        "      xr1, xr2 = population[idx1], population[idx2]\n",
        "      medium_vector = T_medium + F_medium * (T_best - T_medium) + F_medium * (xr1 - xr2)\n",
        "      medium_vector = np.clip(medium_vector, lw_bound, up_bound)\n",
        "\n",
        "      idx1, idx2 = np.random.choice([i for i in range(len(population)) if i != triple[0]], 2, replace=False)\n",
        "      xr1, xr2 = population[idx1], population[idx2]\n",
        "      best_vector = T_best + F_best * (xr1 - xr2)\n",
        "      best_vector = np.clip(best_vector, lw_bound, up_bound)\n",
        "\n",
        "\n",
        "      #crossover\n",
        "      def crossover(vector, mutant, cr_prob):\n",
        "        d_rand = np.random.randint(0, dim_num)\n",
        "        trial_vector = np.zeros(dim_num)\n",
        "        for j in range(dim_num):\n",
        "          if np.random.rand() < cr_prob or j == d_rand:\n",
        "            trial_vector[j] = mutant[j]\n",
        "          else:\n",
        "            trial_vector[j] = vector[j]\n",
        "        return trial_vector\n",
        "\n",
        "      trial_best = crossover(T_best, best_vector, CR_best)\n",
        "      trial_medium = crossover(T_medium, medium_vector, CR_medium)\n",
        "      trial_worst = crossover(T_worst, worst_vector, CR_worst)\n",
        "\n",
        "      # Selection\n",
        "      trial_fitness_best = np.sum(fitness_func(trial_best))\n",
        "      trial_fitness_medium = np.sum(fitness_func(trial_medium))\n",
        "      trial_fitness_worst = np.sum(fitness_func(trial_worst))\n",
        "\n",
        "      if trial_fitness_best < fitness_scores[T_best_idx]:\n",
        "\n",
        "        SF.append(F_best)\n",
        "        SCR.append(CR_best)\n",
        "        f_improv.append(trial_fitness_best - fitness_scores[T_best_idx])\n",
        "        population[T_best_idx] = trial_best\n",
        "        fitness_scores[T_best_idx] = trial_fitness_best\n",
        "        SR[F_indices[2]] += 1\n",
        "        SR[CR_indices[2]] += 1\n",
        "\n",
        "      if trial_fitness_medium < fitness_scores[T_medium_idx]:\n",
        "\n",
        "        SF.append(F_medium)\n",
        "        SCR.append(CR_medium)\n",
        "        f_improv.append(trial_fitness_best - fitness_scores[T_best_idx])\n",
        "        population[T_medium_idx] = trial_medium\n",
        "        fitness_scores[T_medium_idx] = trial_fitness_medium\n",
        "        SR[F_indices[1]] += 1\n",
        "        SR[CR_indices[1]] += 1\n",
        "\n",
        "\n",
        "      if trial_fitness_worst < fitness_scores[T_worst_idx]:\n",
        "\n",
        "        SF.append(F_worst)\n",
        "        SCR.append(CR_worst)\n",
        "        f_improv.append(trial_fitness_best - fitness_scores[T_best_idx])\n",
        "        population[T_worst_idx] = trial_worst\n",
        "        fitness_scores[T_worst_idx] = trial_fitness_worst\n",
        "        SR[F_indices[0]] += 1\n",
        "        SR[CR_indices[0]] += 1\n",
        "\n",
        "\n",
        "\n",
        "    #update archives\n",
        "    if SF :\n",
        "       weights = weight_calculation(f_improv)\n",
        "       F_output = weighted_lehmer_mean(SF, weights)\n",
        "       CR_output = weighted_lehmer_mean(SCR, weights)\n",
        "\n",
        "       MCR[sorted_CR_indices] = CR_output\n",
        "       MF[sorted_F_indices] = F_output\n",
        "       SR = np.ones(len(MF))\n",
        "\n",
        "    best_fitness  = np.min(fitness_scores)\n",
        "    best_idx = np.argmin(fitness_scores)\n",
        "    best = population[best_idx]\n",
        "\n",
        "    new_pop_size = int(np.round((fes / fes_max) * (min_pop_size - pop_size) + pop_size))\n",
        "    fes+=1\n",
        "    if fes > fes_max :\n",
        "      break\n",
        "\n",
        "  return best, best_fitness\n"
      ]
    },
    {
      "cell_type": "code",
      "execution_count": null,
      "metadata": {
        "colab": {
          "base_uri": "https://localhost:8080/"
        },
        "id": "q0R-nq_5bP21",
        "outputId": "e1c505be-3e88-42b5-a62a-422309789ce8"
      },
      "outputs": [
        {
          "output_type": "stream",
          "name": "stdout",
          "text": [
            "Mean execution time: 28.8400 seconds\n",
            "Standard deviation: 0.0000 seconds\n"
          ]
        }
      ],
      "source": [
        "import timeit\n",
        "import numpy as np\n",
        "\n",
        "# Wrapper function for timeit (we discard the return values)\n",
        "def run_de_algorithm():\n",
        "    differential_evolution(sphere_function, 100, -100, 100, 100, 4, 1000, 200)\n",
        "\n",
        "# Run it 11 times and time each run\n",
        "times = timeit.repeat(\n",
        "    stmt='run_de_algorithm()',\n",
        "    setup='from __main__ import run_de_algorithm, differential_evolution, sphere_function',\n",
        "    repeat=1,\n",
        "    number=1\n",
        ")\n",
        "\n",
        "# Compute mean and standard deviation\n",
        "mean_time = np.mean(times)\n",
        "std_time = np.std(times)\n",
        "\n",
        "print(f\"Mean execution time: {mean_time:.4f} seconds\")\n",
        "print(f\"Standard deviation: {std_time:.4f} seconds\")\n"
      ]
    },
    {
      "cell_type": "code",
      "source": [
        "import timeit\n",
        "import numpy as np\n",
        "\n",
        "# Wrapper function for timeit (we discard the return values)\n",
        "def run_de_algorithm():\n",
        "    differential_evolution(sphere_function, 300, -100, 100, 100, 4, 1000, 200)\n",
        "\n",
        "# Run it 11 times and time each run\n",
        "times = timeit.repeat(\n",
        "    stmt='run_de_algorithm()',\n",
        "    setup='from __main__ import run_de_algorithm, differential_evolution, sphere_function',\n",
        "    repeat=1,\n",
        "    number=1\n",
        ")\n",
        "\n",
        "# Compute mean and standard deviation\n",
        "mean_time = np.mean(times)\n",
        "std_time = np.std(times)\n",
        "\n",
        "print(f\"Mean execution time: {mean_time:.4f} seconds\")\n",
        "print(f\"Standard deviation: {std_time:.4f} seconds\")\n"
      ],
      "metadata": {
        "colab": {
          "base_uri": "https://localhost:8080/"
        },
        "id": "mRS3Wacm_89d",
        "outputId": "36dfde68-42e6-42b0-915e-5103d64706ef"
      },
      "execution_count": null,
      "outputs": [
        {
          "output_type": "stream",
          "name": "stdout",
          "text": [
            "Mean execution time: 46.6190 seconds\n",
            "Standard deviation: 0.0000 seconds\n"
          ]
        }
      ]
    },
    {
      "cell_type": "code",
      "source": [
        "import timeit\n",
        "import numpy as np\n",
        "\n",
        "# Wrapper function for timeit (we discard the return values)\n",
        "def run_de_algorithm():\n",
        "    differential_evolution(sphere_function, 500, -100, 100, 100, 4, 1000, 200)\n",
        "\n",
        "# Run it 11 times and time each run\n",
        "times = timeit.repeat(\n",
        "    stmt='run_de_algorithm()',\n",
        "    setup='from __main__ import run_de_algorithm, differential_evolution, sphere_function',\n",
        "    repeat=1,\n",
        "    number=1\n",
        ")\n",
        "\n",
        "# Compute mean and standard deviation\n",
        "mean_time = np.mean(times)\n",
        "std_time = np.std(times)\n",
        "\n",
        "print(f\"Mean execution time: {mean_time:.4f} seconds\")\n",
        "print(f\"Standard deviation: {std_time:.4f} seconds\")\n"
      ],
      "metadata": {
        "colab": {
          "base_uri": "https://localhost:8080/"
        },
        "id": "-0ijMciDBDAT",
        "outputId": "d5ae792f-85e2-43b4-ad54-6e8726640870"
      },
      "execution_count": null,
      "outputs": [
        {
          "output_type": "stream",
          "name": "stdout",
          "text": [
            "Mean execution time: 64.5042 seconds\n",
            "Standard deviation: 0.0000 seconds\n"
          ]
        }
      ]
    },
    {
      "cell_type": "code",
      "source": [
        "import timeit\n",
        "import numpy as np\n",
        "\n",
        "# Wrapper function for timeit (we discard the return values)\n",
        "def run_de_algorithm():\n",
        "    differential_evolution(sphere_function, 750, -100, 100, 100, 4, 1000, 200)\n",
        "\n",
        "# Run it 11 times and time each run\n",
        "times = timeit.repeat(\n",
        "    stmt='run_de_algorithm()',\n",
        "    setup='from __main__ import run_de_algorithm, differential_evolution, sphere_function',\n",
        "    repeat=1,\n",
        "    number=1\n",
        ")\n",
        "\n",
        "# Compute mean and standard deviation\n",
        "mean_time = np.mean(times)\n",
        "std_time = np.std(times)\n",
        "\n",
        "print(f\"Mean execution time: {mean_time:.4f} seconds\")\n",
        "print(f\"Standard deviation: {std_time:.4f} seconds\")\n"
      ],
      "metadata": {
        "colab": {
          "base_uri": "https://localhost:8080/"
        },
        "id": "E9djDytgFTRW",
        "outputId": "91af44eb-d802-4f30-f74b-708674d380b1"
      },
      "execution_count": null,
      "outputs": [
        {
          "output_type": "stream",
          "name": "stdout",
          "text": [
            "Mean execution time: 79.4106 seconds\n",
            "Standard deviation: 0.0000 seconds\n"
          ]
        }
      ]
    },
    {
      "cell_type": "code",
      "source": [
        "import timeit\n",
        "import numpy as np\n",
        "\n",
        "# Wrapper function for timeit (we discard the return values)\n",
        "def run_de_algorithm():\n",
        "    differential_evolution(sphere_function, 1000, -100, 100, 100, 4, 1000, 200)\n",
        "\n",
        "# Run it 11 times and time each run\n",
        "times = timeit.repeat(\n",
        "    stmt='run_de_algorithm()',\n",
        "    setup='from __main__ import run_de_algorithm, differential_evolution, sphere_function',\n",
        "    repeat=1,\n",
        "    number=1\n",
        ")\n",
        "\n",
        "# Compute mean and standard deviation\n",
        "mean_time = np.mean(times)\n",
        "std_time = np.std(times)\n",
        "\n",
        "print(f\"Mean execution time: {mean_time:.4f} seconds\")\n",
        "print(f\"Standard deviation: {std_time:.4f} seconds\")\n"
      ],
      "metadata": {
        "colab": {
          "base_uri": "https://localhost:8080/"
        },
        "id": "X5hEbdvZFwWl",
        "outputId": "a544c8b8-ceb5-490a-bea1-9937790ac071"
      },
      "execution_count": null,
      "outputs": [
        {
          "output_type": "stream",
          "name": "stdout",
          "text": [
            "Mean execution time: 100.5655 seconds\n",
            "Standard deviation: 0.0000 seconds\n"
          ]
        }
      ]
    },
    {
      "cell_type": "code",
      "source": [
        "import timeit\n",
        "import numpy as np\n",
        "\n",
        "# Wrapper function for timeit (we discard the return values)\n",
        "def run_de_algorithm():\n",
        "    differential_evolution(sphere_function, 3000, -100, 100, 100, 4, 1000, 200)\n",
        "\n",
        "# Run it 11 times and time each run\n",
        "times = timeit.repeat(\n",
        "    stmt='run_de_algorithm()',\n",
        "    setup='from __main__ import run_de_algorithm, differential_evolution, sphere_function',\n",
        "    repeat=1,\n",
        "    number=1\n",
        ")\n",
        "\n",
        "# Compute mean and standard deviation\n",
        "mean_time = np.mean(times)\n",
        "std_time = np.std(times)\n",
        "\n",
        "print(f\"Mean execution time: {mean_time:.4f} seconds\")\n",
        "print(f\"Standard deviation: {std_time:.4f} seconds\")\n"
      ],
      "metadata": {
        "colab": {
          "base_uri": "https://localhost:8080/"
        },
        "id": "HqEEUU66GIP2",
        "outputId": "1c49e904-97a7-4c66-ac9e-942b87e22a59"
      },
      "execution_count": null,
      "outputs": [
        {
          "output_type": "stream",
          "name": "stdout",
          "text": [
            "Mean execution time: 258.9708 seconds\n",
            "Standard deviation: 0.0000 seconds\n"
          ]
        }
      ]
    },
    {
      "cell_type": "code",
      "source": [
        "import timeit\n",
        "import numpy as np\n",
        "\n",
        "# Wrapper function for timeit (we discard the return values)\n",
        "def run_de_algorithm():\n",
        "    differential_evolution(sphere_function, 5000, -100, 100, 100, 4, 1000, 200)\n",
        "\n",
        "# Run it 11 times and time each run\n",
        "times = timeit.repeat(\n",
        "    stmt='run_de_algorithm()',\n",
        "    setup='from __main__ import run_de_algorithm, differential_evolution, sphere_function',\n",
        "    repeat=1,\n",
        "    number=1\n",
        ")\n",
        "\n",
        "# Compute mean and standard deviation\n",
        "mean_time = np.mean(times)\n",
        "std_time = np.std(times)\n",
        "\n",
        "print(f\"Mean execution time: {mean_time:.4f} seconds\")\n",
        "print(f\"Standard deviation: {std_time:.4f} seconds\")\n"
      ],
      "metadata": {
        "colab": {
          "base_uri": "https://localhost:8080/"
        },
        "id": "SOBBNoQSGtuv",
        "outputId": "bd9eea99-2c26-4e58-d580-369f97590dfa"
      },
      "execution_count": null,
      "outputs": [
        {
          "output_type": "stream",
          "name": "stdout",
          "text": [
            "Mean execution time: 416.9080 seconds\n",
            "Standard deviation: 0.0000 seconds\n"
          ]
        }
      ]
    },
    {
      "cell_type": "code",
      "source": [
        "import timeit\n",
        "import numpy as np\n",
        "\n",
        "# Wrapper function for timeit (we discard the return values)\n",
        "def run_de_algorithm():\n",
        "    differential_evolution(sphere_function, 7500, -100, 100, 100, 4, 1000, 200)\n",
        "\n",
        "# Run it 11 times and time each run\n",
        "times = timeit.repeat(\n",
        "    stmt='run_de_algorithm()',\n",
        "    setup='from __main__ import run_de_algorithm, differential_evolution, sphere_function',\n",
        "    repeat=1,\n",
        "    number=1\n",
        ")\n",
        "\n",
        "# Compute mean and standard deviation\n",
        "mean_time = np.mean(times)\n",
        "std_time = np.std(times)\n",
        "\n",
        "print(f\"Mean execution time: {mean_time:.4f} seconds\")\n",
        "print(f\"Standard deviation: {std_time:.4f} seconds\")\n"
      ],
      "metadata": {
        "colab": {
          "base_uri": "https://localhost:8080/"
        },
        "id": "wi7Yy5QgH9Eb",
        "outputId": "79039e3d-188d-4376-8721-4e83d5b100bd"
      },
      "execution_count": null,
      "outputs": [
        {
          "output_type": "stream",
          "name": "stdout",
          "text": [
            "Mean execution time: 605.2079 seconds\n",
            "Standard deviation: 0.0000 seconds\n"
          ]
        }
      ]
    },
    {
      "cell_type": "code",
      "source": [
        "import timeit\n",
        "import numpy as np\n",
        "\n",
        "# Wrapper function for timeit (we discard the return values)\n",
        "def run_de_algorithm():\n",
        "    differential_evolution(sphere_function, 10000, -100, 100, 100, 4, 1000, 200)\n",
        "\n",
        "# Run it 11 times and time each run\n",
        "times = timeit.repeat(\n",
        "    stmt='run_de_algorithm()',\n",
        "    setup='from __main__ import run_de_algorithm, differential_evolution, sphere_function',\n",
        "    repeat=1,\n",
        "    number=1\n",
        ")\n",
        "\n",
        "# Compute mean and standard deviation\n",
        "mean_time = np.mean(times)\n",
        "std_time = np.std(times)\n",
        "\n",
        "print(f\"Mean execution time: {mean_time:.4f} seconds\")\n",
        "print(f\"Standard deviation: {std_time:.4f} seconds\")\n"
      ],
      "metadata": {
        "colab": {
          "base_uri": "https://localhost:8080/"
        },
        "id": "BkkkY4ADJ9fZ",
        "outputId": "8ce80263-d679-4ac6-f5a2-042120e851c2"
      },
      "execution_count": null,
      "outputs": [
        {
          "output_type": "stream",
          "name": "stdout",
          "text": [
            "Mean execution time: 805.2246 seconds\n",
            "Standard deviation: 0.0000 seconds\n"
          ]
        }
      ]
    },
    {
      "cell_type": "code",
      "source": [],
      "metadata": {
        "id": "dyhP8DNPMXS9"
      },
      "execution_count": null,
      "outputs": []
    }
  ],
  "metadata": {
    "colab": {
      "provenance": []
    },
    "kernelspec": {
      "display_name": "Python 3",
      "name": "python3"
    },
    "language_info": {
      "name": "python"
    }
  },
  "nbformat": 4,
  "nbformat_minor": 0
}