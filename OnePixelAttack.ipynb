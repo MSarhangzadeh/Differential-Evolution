{
  "cells": [
    {
      "cell_type": "code",
      "execution_count": null,
      "metadata": {
        "colab": {
          "base_uri": "https://localhost:8080/"
        },
        "id": "HOiaHjGxFw00",
        "outputId": "1be29dd1-8774-48f9-e64c-94074b5d14a6"
      },
      "outputs": [
        {
          "output_type": "stream",
          "name": "stdout",
          "text": [
            "cuda\n"
          ]
        }
      ],
      "source": [
        "#model\n",
        "import numpy as np\n",
        "import torch\n",
        "import torch.nn as nn\n",
        "import torch.optim as optimz\n",
        "from torchvision import datasets, transforms, models\n",
        "from torch.utils.data import DataLoader, random_split\n",
        "\n",
        "device = torch.device(\"cuda\" if torch.cuda.is_available() else \"cpu\")\n",
        "print(device)\n",
        "\n",
        "train_transform = transforms.Compose([\n",
        "    transforms.RandomHorizontalFlip(),\n",
        "    transforms.ToTensor(),\n",
        "])\n",
        "transform = transforms.Compose([transforms.ToTensor()])\n",
        "\n",
        "train_dataset = datasets.CIFAR10(root='./data', train=True, download=True, transform=train_transform)\n",
        "test_dataset = datasets.CIFAR10(root='./data', train=False, download=True, transform=transform)\n",
        "\n",
        "\n",
        "train_size = int(0.9 * len(train_dataset))\n",
        "val_size = len(train_dataset) - train_size\n",
        "train_dataset, val_dataset = random_split(train_dataset, [train_size, val_size])\n",
        "\n",
        "train_loader = DataLoader(train_dataset, batch_size=128, shuffle=True)\n",
        "val_loader = DataLoader(val_dataset, batch_size=128, shuffle=True)\n",
        "test_loader = DataLoader(test_dataset, batch_size=128, shuffle=False)\n",
        "\n",
        "class CnnModel(nn.Module):\n",
        "  def __init__(self, num_classes=10):\n",
        "      super().__init__()\n",
        "\n",
        "      self.conv = nn.Sequential(\n",
        "          nn.Conv2d(3,32,3,2,1),\n",
        "          nn.InstanceNorm2d(32, affine=True),\n",
        "          nn.LeakyReLU(0.2), #output -> 32*16*16\n",
        "\n",
        "          nn.Conv2d(32,64,3,2,1),\n",
        "          nn.InstanceNorm2d(64, affine=True),\n",
        "          nn.LeakyReLU(0.2), #output -> 64*8*8\n",
        "\n",
        "          nn.Conv2d(64,128,3,2,1),\n",
        "          nn.InstanceNorm2d(128, affine=True),\n",
        "          nn.LeakyReLU(0.2), #output -> 128*4*4\n",
        "      )\n",
        "\n",
        "      self.fc = nn.Sequential(\n",
        "          nn.Linear(2048,512),\n",
        "          nn.ReLU(),\n",
        "          nn.Dropout(0.25),\n",
        "\n",
        "          nn.Linear(512,512),\n",
        "          nn.ReLU(),\n",
        "          nn.Dropout(0.25),\n",
        "\n",
        "          nn.Linear(512,num_classes),\n",
        "      )\n",
        "\n",
        "  def forward(self,x):\n",
        "    x = self.conv(x)\n",
        "    x = x.view(x.size(0),-1)\n",
        "    x = self.fc(x)\n",
        "\n",
        "    return x\n",
        "\n",
        "model = CnnModel(num_classes=len(test_dataset.classes)).to(device)\n",
        "criterion = nn.CrossEntropyLoss()\n",
        "optimizer = optim.Adam(model.parameters())\n",
        "\n",
        "def train(model, train_loader,val_loader, criterion, optimizer, epochs= 20):\n",
        "\n",
        "    model.train()\n",
        "    for epoch in range(epochs):\n",
        "\n",
        "        train_loss, train_correct, train_total = 0, 0, 0\n",
        "        for images, labels in train_loader:\n",
        "            images, labels = images.to(device), labels.to(device)\n",
        "            outputs = model(images)\n",
        "            loss = criterion(outputs, labels)\n",
        "\n",
        "            optimizer.zero_grad()\n",
        "            loss.backward()\n",
        "            optimizer.step()\n",
        "            train_loss += loss.item()\n",
        "            _, predicted = outputs.max(1)\n",
        "            train_total += labels.size(0)\n",
        "            train_correct += predicted.eq(labels).sum().item()\n",
        "\n",
        "        # Validation\n",
        "        model.eval()\n",
        "        val_loss, val_correct, val_total = 0, 0, 0\n",
        "        with torch.no_grad():\n",
        "            for images, labels in val_loader:\n",
        "                images, labels = images.to(device), labels.to(device)\n",
        "                outputs = model(images)\n",
        "                loss = criterion(outputs, labels)\n",
        "\n",
        "                val_loss += loss.item()\n",
        "                _, predicted = outputs.max(1)\n",
        "                val_total += labels.size(0)\n",
        "                val_correct += predicted.eq(labels).sum().item()\n",
        "\n",
        "        print(f\"Epoch {epoch+1}/{epochs} | Train Acc: {100*train_correct/train_total:.2f}% | \"\n",
        "              f\"Val Acc: {100*val_correct/val_total:.2f}%\")"
      ]
    },
    {
      "cell_type": "code",
      "execution_count": null,
      "metadata": {
        "colab": {
          "base_uri": "https://localhost:8080/"
        },
        "id": "KVBaPdzWF8JV",
        "outputId": "3318985e-17e3-41ee-c456-5fe82321bf9f"
      },
      "outputs": [
        {
          "output_type": "stream",
          "name": "stdout",
          "text": [
            "Loaded weights from file: /content/drive/MyDrive/vgg_cifar_weights.pt\n",
            "\n",
            "Test Accuracy: 70.93%\n"
          ]
        }
      ],
      "source": [
        "#training\n",
        "\n",
        "from pathlib import Path\n",
        "\n",
        "TRAIN_EPOCHS = 20\n",
        "path = Path(\"/content/drive/MyDrive\")\n",
        "WEIGHTS_PATH = path / \"vgg_cifar_weights.pt\"\n",
        "\n",
        "if WEIGHTS_PATH.is_file():\n",
        "    model.load_state_dict(torch.load(WEIGHTS_PATH))\n",
        "    print(\"Loaded weights from file:\", WEIGHTS_PATH)\n",
        "else:\n",
        "    train(model, train_loader, val_loader, criterion, optimizer, epochs=20)\n",
        "    torch.save(model.state_dict(), WEIGHTS_PATH)\n",
        "\n",
        "# Evaluate on test set\n",
        "model.eval()\n",
        "test_correct, test_total = 0, 0\n",
        "all_preds, all_labels = [], []\n",
        "with torch.no_grad():\n",
        "    for images, labels in test_loader:\n",
        "        images, labels = images.to(device), labels.to(device)\n",
        "        outputs = model(images)\n",
        "        _, predicted = outputs.max(1)\n",
        "        test_total += labels.size(0)\n",
        "        test_correct += predicted.eq(labels).sum().item()\n",
        "        all_preds.extend(predicted.cpu().numpy())\n",
        "        all_labels.extend(labels.cpu().numpy())\n",
        "\n",
        "print(f\"\\nTest Accuracy: {100*test_correct/test_total:.2f}%\")\n"
      ]
    },
    {
      "cell_type": "code",
      "execution_count": null,
      "metadata": {
        "id": "9Zb8tbVJGogt",
        "colab": {
          "base_uri": "https://localhost:8080/",
          "height": 534
        },
        "outputId": "2ecd2885-af89-4087-dff7-a05b46923115"
      },
      "outputs": [
        {
          "output_type": "stream",
          "name": "stdout",
          "text": [
            "True Label: dog 5\n",
            "Prediction: dog 5\n",
            "Label Probabilities: tensor([3.5744e-10, 2.0480e-10, 4.9035e-06, 1.7354e-04, 3.8822e-10, 9.9982e-01,\n",
            "        1.8701e-10, 1.3230e-07, 2.5658e-10, 1.0327e-09], device='cuda:0',\n",
            "       grad_fn=<SoftmaxBackward0>)\n",
            "True Label Probability: 0.9998214840888977\n"
          ]
        },
        {
          "output_type": "display_data",
          "data": {
            "text/plain": [
              "<Figure size 640x480 with 1 Axes>"
            ],
            "image/png": "[encoded data removed]"
          },
          "metadata": {}
        }
      ],
      "source": [
        "CIFAR_LABELS  = test_dataset.classes\n",
        "\n",
        "import matplotlib.pyplot as plt\n",
        "import torch.nn.functional as F\n",
        "\n",
        "def imshow(img):\n",
        "    img = img.cpu().numpy().transpose((1, 2, 0))\n",
        "    img = np.clip(img, 0, 1)\n",
        "    plt.imshow(img)\n",
        "\n",
        "\n",
        "def tell(img, label, model, target_label=None):\n",
        "    print(\"True Label:\", CIFAR_LABELS[label], label)\n",
        "    print(\"Prediction:\", CIFAR_LABELS[model(img.unsqueeze(0)).max(-1)[1]], model(img.unsqueeze(0)).max(-1)[1][0].item())\n",
        "    print(\"Label Probabilities:\", F.softmax(model(img.unsqueeze(0)).squeeze(), dim=0))\n",
        "    print(\"True Label Probability:\", F.softmax(model(img.unsqueeze(0)).squeeze(), dim=0)[label].item())\n",
        "    if target_label is not None:\n",
        "        print(\"Target Label Probability:\", F.softmax(model(img.unsqueeze(0)).squeeze(), dim=0)[target_label].item())\n",
        "\n",
        "test_img, test_label = test_dataset[1000]\n",
        "test_img = test_img.to(device)\n",
        "imshow(test_img)\n",
        "tell(test_img, test_label, model)"
      ]
    },
    {
      "cell_type": "code",
      "source": [
        "def perturb(p, img):\n",
        "    # Elements of p should be in range [0,1]\n",
        "    img_size = img.size(1) # C x _H_ x W, assume H == W\n",
        "    p_img = img.clone()\n",
        "    xy = (p[0:2].copy() * img_size).astype(int)\n",
        "    xy = np.clip(xy, 0, img_size-1)\n",
        "    rgb = p[2:5].copy()\n",
        "    rgb = np.clip(rgb, 0, 1)\n",
        "    p_img[:,xy[0],xy[1]] = torch.from_numpy(rgb)\n",
        "    return p_img\n",
        "\n",
        "def visualize_perturbation(p, img, label, model, target_label=None):\n",
        "    p_img = perturb(p, img)\n",
        "    print(\"Perturbation:\", p)\n",
        "    imshow(p_img)\n",
        "    tell(p_img, label, model, target_label)\n",
        "\n",
        "visualize_perturbation(np.array([0.6,0.6,0,0,0.75]), test_img, test_label, model)"
      ],
      "metadata": {
        "colab": {
          "base_uri": "https://localhost:8080/",
          "height": 551
        },
        "id": "aaJ06POec8CO",
        "outputId": "0d5029b5-82ba-40d0-fc0f-c24f4d10e3ef"
      },
      "execution_count": null,
      "outputs": [
        {
          "output_type": "stream",
          "name": "stdout",
          "text": [
            "Perturbation: [0.6  0.6  0.   0.   0.75]\n",
            "True Label: dog 5\n",
            "Prediction: dog 5\n",
            "Label Probabilities: tensor([3.0681e-09, 9.5971e-10, 1.5957e-05, 2.1612e-04, 2.7500e-09, 9.9977e-01,\n",
            "        1.4097e-09, 2.1387e-07, 2.0585e-09, 2.3985e-09], device='cuda:0',\n",
            "       grad_fn=<SoftmaxBackward0>)\n",
            "True Label Probability: 0.9997677206993103\n"
          ]
        },
        {
          "output_type": "display_data",
          "data": {
            "text/plain": [
              "<Figure size 640x480 with 1 Axes>"
            ],
            "image/png": "[encoded data removed]"
          },
          "metadata": {}
        }
      ]
    },
    {
      "cell_type": "code",
      "source": [
        "def perturb(p, img):\n",
        "    # p length = 15 (3 pixels * 5 values each)\n",
        "    img_size = img.size(1)  # C x H x W, assume H == W\n",
        "    p_img = img.clone()\n",
        "    for i in range(3):\n",
        "        idx = i * 5\n",
        "        xy = (p[idx:idx+2].copy() * img_size).astype(int)\n",
        "        xy = np.clip(xy, 0, img_size - 1)\n",
        "        rgb = p[idx+2:idx+5].copy()\n",
        "        rgb = np.clip(rgb, 0, 1)\n",
        "        # Set pixel color (assuming img channels first, RGB channels)\n",
        "        p_img[:, xy[0], xy[1]] = torch.from_numpy(rgb)\n",
        "    return p_img\n",
        "\n",
        "def visualize_perturbation(p, img, label, model, target_label=None):\n",
        "    p_img = perturb(p, img)\n",
        "    print(\"Perturbation:\", p)\n",
        "    imshow(p_img)\n",
        "    tell(p_img, label, model, target_label)\n",
        "\n",
        "def evaluate(candidates, img, label, model):\n",
        "    preds = []\n",
        "    model.eval()\n",
        "    with torch.no_grad():\n",
        "        for xs in candidates:\n",
        "            p_img = perturb(xs, img)\n",
        "            preds.append(F.softmax(model(p_img.unsqueeze(0)).squeeze(), dim=0)[label].item())\n",
        "    return np.array(preds)\n",
        "\n",
        "def evolve(candidates, F=0.5, strategy=\"clip\"):\n",
        "    gen2 = candidates.copy()\n",
        "    num_candidates = len(candidates)\n",
        "    for i in range(num_candidates):\n",
        "        x1, x2, x3 = candidates[np.random.choice(num_candidates, 3, replace=False)]\n",
        "        x_next = (x1 + F * (x2 - x3))\n",
        "        if strategy == \"clip\":\n",
        "            gen2[i] = np.clip(x_next, 0, 1)\n",
        "        elif strategy == \"resample\":\n",
        "            x_oob = np.logical_or((x_next < 0), (1 < x_next))\n",
        "            x_next[x_oob] = np.random.random(len(x_next))[x_oob]\n",
        "            gen2[i] = x_next\n",
        "    return gen2\n",
        "\n",
        "def attack(model, img, true_label, target_label=None, iters=100, pop_size=400, verbose=True):\n",
        "    # Each candidate now has 15 values (3 pixels * 5)\n",
        "    candidates = np.random.random((pop_size, 15))\n",
        "    # For RGB channels (positions 2,3,4; 7,8,9; 12,13,14), sample from normal distribution clipped [0,1]\n",
        "    for i in range(3):\n",
        "        candidates[:, i*5+2:i*5+5] = np.clip(np.random.normal(0.5, 0.5, (pop_size, 3)), 0, 1)\n",
        "\n",
        "    is_targeted = target_label is not None\n",
        "    label = target_label if is_targeted else true_label\n",
        "    fitness = evaluate(candidates, img, label, model)\n",
        "\n",
        "    def is_success():\n",
        "        return (is_targeted and fitness.max() > 0.5) or ((not is_targeted) and fitness.min() < 0.05)\n",
        "\n",
        "    for iteration in range(iters):\n",
        "        if is_success():\n",
        "            break\n",
        "        if verbose and iteration % 10 == 0:\n",
        "            print(\"Target Probability [Iteration {}]:\".format(iteration), fitness.max() if is_targeted else fitness.min())\n",
        "        new_gen_candidates = evolve(candidates, strategy=\"resample\")\n",
        "        new_gen_fitness = evaluate(new_gen_candidates, img, label, model)\n",
        "        successors = new_gen_fitness > fitness if is_targeted else new_gen_fitness < fitness\n",
        "        candidates[successors] = new_gen_candidates[successors]\n",
        "        fitness[successors] = new_gen_fitness[successors]\n",
        "\n",
        "    best_idx = fitness.argmax() if is_targeted else fitness.argmin()\n",
        "    best_solution = candidates[best_idx]\n",
        "    best_score = fitness[best_idx]\n",
        "\n",
        "    if verbose:\n",
        "        visualize_perturbation(best_solution, img, true_label, model, target_label)\n",
        "\n",
        "    return is_success(), best_solution, best_score\n",
        "\n",
        "# Example call for untargeted attack\n",
        "_ = attack(model, test_img, test_label)\n"
      ],
      "metadata": {
        "colab": {
          "base_uri": "https://localhost:8080/",
          "height": 760
        },
        "id": "Jj8O4sPlpyg4",
        "outputId": "8955ace6-104b-4cbf-d9db-509f162fa196"
      },
      "execution_count": null,
      "outputs": [
        {
          "output_type": "stream",
          "name": "stdout",
          "text": [
            "Target Probability [Iteration 0]: 0.7764180302619934\n",
            "Target Probability [Iteration 10]: 0.5660198926925659\n",
            "Target Probability [Iteration 20]: 0.5099128484725952\n",
            "Target Probability [Iteration 30]: 0.20558443665504456\n",
            "Target Probability [Iteration 40]: 0.16077189147472382\n",
            "Target Probability [Iteration 50]: 0.16077189147472382\n",
            "Target Probability [Iteration 60]: 0.15762817859649658\n",
            "Target Probability [Iteration 70]: 0.15762817859649658\n",
            "Target Probability [Iteration 80]: 0.15762817859649658\n",
            "Target Probability [Iteration 90]: 0.15762817859649658\n",
            "Perturbation: [0.70265013 0.36778779 0.29268372 0.99921743 0.12193268 0.73690384\n",
            " 0.31128626 0.23775769 0.77161874 0.01235759 0.6654611  0.23780078\n",
            " 0.08450023 0.31389578 0.22296615]\n",
            "True Label: dog 5\n",
            "Prediction: cat 3\n",
            "Label Probabilities: tensor([9.9346e-06, 1.7648e-05, 3.5165e-02, 9.2832e-01, 1.1000e-07, 3.5880e-02,\n",
            "        2.6238e-07, 3.4107e-04, 3.1403e-05, 2.3848e-04], device='cuda:0',\n",
            "       grad_fn=<SoftmaxBackward0>)\n",
            "True Label Probability: 0.03588000312447548\n"
          ]
        },
        {
          "output_type": "display_data",
          "data": {
            "text/plain": [
              "<Figure size 640x480 with 1 Axes>"
            ],
            "image/png": "[encoded data removed]"
          },
          "metadata": {}
        }
      ]
    },
    {
      "cell_type": "code",
      "source": [
        "# This is much harder/costlier than an untargeted attack\n",
        "# For time reasons, targeted attacks below use 20 iterations\n",
        "targeted_results = {}\n",
        "for idx in range(len(CIFAR_LABELS)):\n",
        "    if idx != test_label:\n",
        "        targeted_results[idx] = attack(model, test_img, test_label, target_label=idx, iters=100, verbose=False)\n",
        "        print(CIFAR_LABELS[idx], idx, targeted_results[idx][0], targeted_results[idx][2])\n",
        "    else:\n",
        "        print(CIFAR_LABELS[idx], idx, \"True Label\")"
      ],
      "metadata": {
        "colab": {
          "base_uri": "https://localhost:8080/",
          "height": 495
        },
        "id": "nsdVuNYKs7pC",
        "outputId": "d4ed9be8-1b65-4971-c3be-3f976d6cb23e"
      },
      "execution_count": null,
      "outputs": [
        {
          "output_type": "stream",
          "name": "stdout",
          "text": [
            "airplane 0 False 0.00020291654800530523\n",
            "automobile 1 False 8.115097443806008e-05\n",
            "bird 2 True 0.6290165781974792\n",
            "cat 3 True 0.5497058629989624\n",
            "deer 4 False 1.3375264643400442e-05\n",
            "dog 5 True Label\n",
            "frog 6 False 1.5885363609413616e-05\n"
          ]
        },
        {
          "output_type": "error",
          "ename": "KeyboardInterrupt",
          "evalue": "",
          "traceback": [
            "\u001b[0;31m---------------------------------------------------------------------------\u001b[0m",
            "\u001b[0;31mKeyboardInterrupt\u001b[0m                         Traceback (most recent call last)",
            "\u001b[0;32m<ipython-input-90-ea8d9378b753>\u001b[0m in \u001b[0;36m<cell line: 0>\u001b[0;34m()\u001b[0m\n\u001b[1;32m      4\u001b[0m \u001b[0;32mfor\u001b[0m \u001b[0midx\u001b[0m \u001b[0;32min\u001b[0m \u001b[0mrange\u001b[0m\u001b[0;34m(\u001b[0m\u001b[0mlen\u001b[0m\u001b[0;34m(\u001b[0m\u001b[0mCIFAR_LABELS\u001b[0m\u001b[0;34m)\u001b[0m\u001b[0;34m)\u001b[0m\u001b[0;34m:\u001b[0m\u001b[0;34m\u001b[0m\u001b[0;34m\u001b[0m\u001b[0m\n\u001b[1;32m      5\u001b[0m     \u001b[0;32mif\u001b[0m \u001b[0midx\u001b[0m \u001b[0;34m!=\u001b[0m \u001b[0mtest_label\u001b[0m\u001b[0;34m:\u001b[0m\u001b[0;34m\u001b[0m\u001b[0;34m\u001b[0m\u001b[0m\n\u001b[0;32m----> 6\u001b[0;31m         \u001b[0mtargeted_results\u001b[0m\u001b[0;34m[\u001b[0m\u001b[0midx\u001b[0m\u001b[0;34m]\u001b[0m \u001b[0;34m=\u001b[0m \u001b[0mattack\u001b[0m\u001b[0;34m(\u001b[0m\u001b[0mmodel\u001b[0m\u001b[0;34m,\u001b[0m \u001b[0mtest_img\u001b[0m\u001b[0;34m,\u001b[0m \u001b[0mtest_label\u001b[0m\u001b[0;34m,\u001b[0m \u001b[0mtarget_label\u001b[0m\u001b[0;34m=\u001b[0m\u001b[0midx\u001b[0m\u001b[0;34m,\u001b[0m \u001b[0miters\u001b[0m\u001b[0;34m=\u001b[0m\u001b[0;36m100\u001b[0m\u001b[0;34m,\u001b[0m \u001b[0mverbose\u001b[0m\u001b[0;34m=\u001b[0m\u001b[0;32mFalse\u001b[0m\u001b[0;34m)\u001b[0m\u001b[0;34m\u001b[0m\u001b[0;34m\u001b[0m\u001b[0m\n\u001b[0m\u001b[1;32m      7\u001b[0m         \u001b[0mprint\u001b[0m\u001b[0;34m(\u001b[0m\u001b[0mCIFAR_LABELS\u001b[0m\u001b[0;34m[\u001b[0m\u001b[0midx\u001b[0m\u001b[0;34m]\u001b[0m\u001b[0;34m,\u001b[0m \u001b[0midx\u001b[0m\u001b[0;34m,\u001b[0m \u001b[0mtargeted_results\u001b[0m\u001b[0;34m[\u001b[0m\u001b[0midx\u001b[0m\u001b[0;34m]\u001b[0m\u001b[0;34m[\u001b[0m\u001b[0;36m0\u001b[0m\u001b[0;34m]\u001b[0m\u001b[0;34m,\u001b[0m \u001b[0mtargeted_results\u001b[0m\u001b[0;34m[\u001b[0m\u001b[0midx\u001b[0m\u001b[0;34m]\u001b[0m\u001b[0;34m[\u001b[0m\u001b[0;36m2\u001b[0m\u001b[0;34m]\u001b[0m\u001b[0;34m)\u001b[0m\u001b[0;34m\u001b[0m\u001b[0;34m\u001b[0m\u001b[0m\n\u001b[1;32m      8\u001b[0m     \u001b[0;32melse\u001b[0m\u001b[0;34m:\u001b[0m\u001b[0;34m\u001b[0m\u001b[0;34m\u001b[0m\u001b[0m\n",
            "\u001b[0;32m<ipython-input-89-4042dd685e60>\u001b[0m in \u001b[0;36mattack\u001b[0;34m(model, img, true_label, target_label, iters, pop_size, verbose)\u001b[0m\n\u001b[1;32m     62\u001b[0m             \u001b[0mprint\u001b[0m\u001b[0;34m(\u001b[0m\u001b[0;34m\"Target Probability [Iteration {}]:\"\u001b[0m\u001b[0;34m.\u001b[0m\u001b[0mformat\u001b[0m\u001b[0;34m(\u001b[0m\u001b[0miteration\u001b[0m\u001b[0;34m)\u001b[0m\u001b[0;34m,\u001b[0m \u001b[0mfitness\u001b[0m\u001b[0;34m.\u001b[0m\u001b[0mmax\u001b[0m\u001b[0;34m(\u001b[0m\u001b[0;34m)\u001b[0m \u001b[0;32mif\u001b[0m \u001b[0mis_targeted\u001b[0m \u001b[0;32melse\u001b[0m \u001b[0mfitness\u001b[0m\u001b[0;34m.\u001b[0m\u001b[0mmin\u001b[0m\u001b[0;34m(\u001b[0m\u001b[0;34m)\u001b[0m\u001b[0;34m)\u001b[0m\u001b[0;34m\u001b[0m\u001b[0;34m\u001b[0m\u001b[0m\n\u001b[1;32m     63\u001b[0m         \u001b[0mnew_gen_candidates\u001b[0m \u001b[0;34m=\u001b[0m \u001b[0mevolve\u001b[0m\u001b[0;34m(\u001b[0m\u001b[0mcandidates\u001b[0m\u001b[0;34m,\u001b[0m \u001b[0mstrategy\u001b[0m\u001b[0;34m=\u001b[0m\u001b[0;34m\"resample\"\u001b[0m\u001b[0;34m)\u001b[0m\u001b[0;34m\u001b[0m\u001b[0;34m\u001b[0m\u001b[0m\n\u001b[0;32m---> 64\u001b[0;31m         \u001b[0mnew_gen_fitness\u001b[0m \u001b[0;34m=\u001b[0m \u001b[0mevaluate\u001b[0m\u001b[0;34m(\u001b[0m\u001b[0mnew_gen_candidates\u001b[0m\u001b[0;34m,\u001b[0m \u001b[0mimg\u001b[0m\u001b[0;34m,\u001b[0m \u001b[0mlabel\u001b[0m\u001b[0;34m,\u001b[0m \u001b[0mmodel\u001b[0m\u001b[0;34m)\u001b[0m\u001b[0;34m\u001b[0m\u001b[0;34m\u001b[0m\u001b[0m\n\u001b[0m\u001b[1;32m     65\u001b[0m         \u001b[0msuccessors\u001b[0m \u001b[0;34m=\u001b[0m \u001b[0mnew_gen_fitness\u001b[0m \u001b[0;34m>\u001b[0m \u001b[0mfitness\u001b[0m \u001b[0;32mif\u001b[0m \u001b[0mis_targeted\u001b[0m \u001b[0;32melse\u001b[0m \u001b[0mnew_gen_fitness\u001b[0m \u001b[0;34m<\u001b[0m \u001b[0mfitness\u001b[0m\u001b[0;34m\u001b[0m\u001b[0;34m\u001b[0m\u001b[0m\n\u001b[1;32m     66\u001b[0m         \u001b[0mcandidates\u001b[0m\u001b[0;34m[\u001b[0m\u001b[0msuccessors\u001b[0m\u001b[0;34m]\u001b[0m \u001b[0;34m=\u001b[0m \u001b[0mnew_gen_candidates\u001b[0m\u001b[0;34m[\u001b[0m\u001b[0msuccessors\u001b[0m\u001b[0;34m]\u001b[0m\u001b[0;34m\u001b[0m\u001b[0;34m\u001b[0m\u001b[0m\n",
            "\u001b[0;32m<ipython-input-89-4042dd685e60>\u001b[0m in \u001b[0;36mevaluate\u001b[0;34m(candidates, img, label, model)\u001b[0m\n\u001b[1;32m     25\u001b[0m         \u001b[0;32mfor\u001b[0m \u001b[0mxs\u001b[0m \u001b[0;32min\u001b[0m \u001b[0mcandidates\u001b[0m\u001b[0;34m:\u001b[0m\u001b[0;34m\u001b[0m\u001b[0;34m\u001b[0m\u001b[0m\n\u001b[1;32m     26\u001b[0m             \u001b[0mp_img\u001b[0m \u001b[0;34m=\u001b[0m \u001b[0mperturb\u001b[0m\u001b[0;34m(\u001b[0m\u001b[0mxs\u001b[0m\u001b[0;34m,\u001b[0m \u001b[0mimg\u001b[0m\u001b[0;34m)\u001b[0m\u001b[0;34m\u001b[0m\u001b[0;34m\u001b[0m\u001b[0m\n\u001b[0;32m---> 27\u001b[0;31m             \u001b[0mpreds\u001b[0m\u001b[0;34m.\u001b[0m\u001b[0mappend\u001b[0m\u001b[0;34m(\u001b[0m\u001b[0mF\u001b[0m\u001b[0;34m.\u001b[0m\u001b[0msoftmax\u001b[0m\u001b[0;34m(\u001b[0m\u001b[0mmodel\u001b[0m\u001b[0;34m(\u001b[0m\u001b[0mp_img\u001b[0m\u001b[0;34m.\u001b[0m\u001b[0munsqueeze\u001b[0m\u001b[0;34m(\u001b[0m\u001b[0;36m0\u001b[0m\u001b[0;34m)\u001b[0m\u001b[0;34m)\u001b[0m\u001b[0;34m.\u001b[0m\u001b[0msqueeze\u001b[0m\u001b[0;34m(\u001b[0m\u001b[0;34m)\u001b[0m\u001b[0;34m,\u001b[0m \u001b[0mdim\u001b[0m\u001b[0;34m=\u001b[0m\u001b[0;36m0\u001b[0m\u001b[0;34m)\u001b[0m\u001b[0;34m[\u001b[0m\u001b[0mlabel\u001b[0m\u001b[0;34m]\u001b[0m\u001b[0;34m.\u001b[0m\u001b[0mitem\u001b[0m\u001b[0;34m(\u001b[0m\u001b[0;34m)\u001b[0m\u001b[0;34m)\u001b[0m\u001b[0;34m\u001b[0m\u001b[0;34m\u001b[0m\u001b[0m\n\u001b[0m\u001b[1;32m     28\u001b[0m     \u001b[0;32mreturn\u001b[0m \u001b[0mnp\u001b[0m\u001b[0;34m.\u001b[0m\u001b[0marray\u001b[0m\u001b[0;34m(\u001b[0m\u001b[0mpreds\u001b[0m\u001b[0;34m)\u001b[0m\u001b[0;34m\u001b[0m\u001b[0;34m\u001b[0m\u001b[0m\n\u001b[1;32m     29\u001b[0m \u001b[0;34m\u001b[0m\u001b[0m\n",
            "\u001b[0;31mKeyboardInterrupt\u001b[0m: "
          ]
        }
      ]
    },
    {
      "cell_type": "code",
      "source": [],
      "metadata": {
        "id": "Wx7rkdgivseN"
      },
      "execution_count": null,
      "outputs": []
    }
  ],
  "metadata": {
    "accelerator": "GPU",
    "colab": {
      "gpuType": "T4",
      "provenance": []
    },
    "kernelspec": {
      "display_name": "Python 3",
      "name": "python3"
    },
    "language_info": {
      "name": "python"
    }
  },
  "nbformat": 4,
  "nbformat_minor": 0
}